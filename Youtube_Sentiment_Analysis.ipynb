{
 "cells": [
  {
   "cell_type": "markdown",
   "id": "83335b92",
   "metadata": {},
   "source": [
    "# EDA"
   ]
  },
  {
   "cell_type": "code",
   "execution_count": 1,
   "id": "45160358",
   "metadata": {},
   "outputs": [],
   "source": [
    "import pandas as pd\n",
    "import numpy as np"
   ]
  },
  {
   "cell_type": "code",
   "execution_count": 2,
   "id": "0fc5f731",
   "metadata": {},
   "outputs": [],
   "source": [
    "comments = pd.read_csv('comments.csv')\n",
    "videos = pd.read_csv('videos-stats.csv')"
   ]
  },
  {
   "cell_type": "code",
   "execution_count": 3,
   "id": "cc688276",
   "metadata": {},
   "outputs": [
    {
     "data": {
      "text/html": [
       "<div>\n",
       "<style scoped>\n",
       "    .dataframe tbody tr th:only-of-type {\n",
       "        vertical-align: middle;\n",
       "    }\n",
       "\n",
       "    .dataframe tbody tr th {\n",
       "        vertical-align: top;\n",
       "    }\n",
       "\n",
       "    .dataframe thead th {\n",
       "        text-align: right;\n",
       "    }\n",
       "</style>\n",
       "<table border=\"1\" class=\"dataframe\">\n",
       "  <thead>\n",
       "    <tr style=\"text-align: right;\">\n",
       "      <th></th>\n",
       "      <th>Unnamed: 0</th>\n",
       "      <th>Video ID</th>\n",
       "      <th>Comment</th>\n",
       "      <th>Likes</th>\n",
       "      <th>Sentiment</th>\n",
       "    </tr>\n",
       "  </thead>\n",
       "  <tbody>\n",
       "    <tr>\n",
       "      <th>0</th>\n",
       "      <td>0</td>\n",
       "      <td>wAZZ-UWGVHI</td>\n",
       "      <td>Let's not forget that Apple Pay in 2014 requir...</td>\n",
       "      <td>95.0</td>\n",
       "      <td>1.0</td>\n",
       "    </tr>\n",
       "    <tr>\n",
       "      <th>1</th>\n",
       "      <td>1</td>\n",
       "      <td>wAZZ-UWGVHI</td>\n",
       "      <td>Here in NZ 50% of retailers don’t even have co...</td>\n",
       "      <td>19.0</td>\n",
       "      <td>0.0</td>\n",
       "    </tr>\n",
       "    <tr>\n",
       "      <th>2</th>\n",
       "      <td>2</td>\n",
       "      <td>wAZZ-UWGVHI</td>\n",
       "      <td>I will forever acknowledge this channel with t...</td>\n",
       "      <td>161.0</td>\n",
       "      <td>2.0</td>\n",
       "    </tr>\n",
       "    <tr>\n",
       "      <th>3</th>\n",
       "      <td>3</td>\n",
       "      <td>wAZZ-UWGVHI</td>\n",
       "      <td>Whenever I go to a place that doesn’t take App...</td>\n",
       "      <td>8.0</td>\n",
       "      <td>0.0</td>\n",
       "    </tr>\n",
       "    <tr>\n",
       "      <th>4</th>\n",
       "      <td>4</td>\n",
       "      <td>wAZZ-UWGVHI</td>\n",
       "      <td>Apple Pay is so convenient, secure, and easy t...</td>\n",
       "      <td>34.0</td>\n",
       "      <td>2.0</td>\n",
       "    </tr>\n",
       "  </tbody>\n",
       "</table>\n",
       "</div>"
      ],
      "text/plain": [
       "   Unnamed: 0     Video ID                                            Comment  \\\n",
       "0           0  wAZZ-UWGVHI  Let's not forget that Apple Pay in 2014 requir...   \n",
       "1           1  wAZZ-UWGVHI  Here in NZ 50% of retailers don’t even have co...   \n",
       "2           2  wAZZ-UWGVHI  I will forever acknowledge this channel with t...   \n",
       "3           3  wAZZ-UWGVHI  Whenever I go to a place that doesn’t take App...   \n",
       "4           4  wAZZ-UWGVHI  Apple Pay is so convenient, secure, and easy t...   \n",
       "\n",
       "   Likes  Sentiment  \n",
       "0   95.0        1.0  \n",
       "1   19.0        0.0  \n",
       "2  161.0        2.0  \n",
       "3    8.0        0.0  \n",
       "4   34.0        2.0  "
      ]
     },
     "execution_count": 3,
     "metadata": {},
     "output_type": "execute_result"
    }
   ],
   "source": [
    "comments.head()"
   ]
  },
  {
   "cell_type": "code",
   "execution_count": 4,
   "id": "45a0e5b0",
   "metadata": {},
   "outputs": [
    {
     "data": {
      "text/html": [
       "<div>\n",
       "<style scoped>\n",
       "    .dataframe tbody tr th:only-of-type {\n",
       "        vertical-align: middle;\n",
       "    }\n",
       "\n",
       "    .dataframe tbody tr th {\n",
       "        vertical-align: top;\n",
       "    }\n",
       "\n",
       "    .dataframe thead th {\n",
       "        text-align: right;\n",
       "    }\n",
       "</style>\n",
       "<table border=\"1\" class=\"dataframe\">\n",
       "  <thead>\n",
       "    <tr style=\"text-align: right;\">\n",
       "      <th></th>\n",
       "      <th>Unnamed: 0</th>\n",
       "      <th>Title</th>\n",
       "      <th>Video ID</th>\n",
       "      <th>Published At</th>\n",
       "      <th>Keyword</th>\n",
       "      <th>Likes</th>\n",
       "      <th>Comments</th>\n",
       "      <th>Views</th>\n",
       "    </tr>\n",
       "  </thead>\n",
       "  <tbody>\n",
       "    <tr>\n",
       "      <th>0</th>\n",
       "      <td>0</td>\n",
       "      <td>Apple Pay Is Killing the Physical Wallet After...</td>\n",
       "      <td>wAZZ-UWGVHI</td>\n",
       "      <td>2022-08-23</td>\n",
       "      <td>tech</td>\n",
       "      <td>3407.0</td>\n",
       "      <td>672.0</td>\n",
       "      <td>135612.0</td>\n",
       "    </tr>\n",
       "    <tr>\n",
       "      <th>1</th>\n",
       "      <td>1</td>\n",
       "      <td>The most EXPENSIVE thing I own.</td>\n",
       "      <td>b3x28s61q3c</td>\n",
       "      <td>2022-08-24</td>\n",
       "      <td>tech</td>\n",
       "      <td>76779.0</td>\n",
       "      <td>4306.0</td>\n",
       "      <td>1758063.0</td>\n",
       "    </tr>\n",
       "    <tr>\n",
       "      <th>2</th>\n",
       "      <td>2</td>\n",
       "      <td>My New House Gaming Setup is SICK!</td>\n",
       "      <td>4mgePWWCAmA</td>\n",
       "      <td>2022-08-23</td>\n",
       "      <td>tech</td>\n",
       "      <td>63825.0</td>\n",
       "      <td>3338.0</td>\n",
       "      <td>1564007.0</td>\n",
       "    </tr>\n",
       "    <tr>\n",
       "      <th>3</th>\n",
       "      <td>3</td>\n",
       "      <td>Petrol Vs Liquid Nitrogen | Freezing Experimen...</td>\n",
       "      <td>kXiYSI7H2b0</td>\n",
       "      <td>2022-08-23</td>\n",
       "      <td>tech</td>\n",
       "      <td>71566.0</td>\n",
       "      <td>1426.0</td>\n",
       "      <td>922918.0</td>\n",
       "    </tr>\n",
       "    <tr>\n",
       "      <th>4</th>\n",
       "      <td>4</td>\n",
       "      <td>Best Back to School Tech 2022!</td>\n",
       "      <td>ErMwWXQxHp0</td>\n",
       "      <td>2022-08-08</td>\n",
       "      <td>tech</td>\n",
       "      <td>96513.0</td>\n",
       "      <td>5155.0</td>\n",
       "      <td>1855644.0</td>\n",
       "    </tr>\n",
       "  </tbody>\n",
       "</table>\n",
       "</div>"
      ],
      "text/plain": [
       "   Unnamed: 0                                              Title     Video ID  \\\n",
       "0           0  Apple Pay Is Killing the Physical Wallet After...  wAZZ-UWGVHI   \n",
       "1           1                    The most EXPENSIVE thing I own.  b3x28s61q3c   \n",
       "2           2                 My New House Gaming Setup is SICK!  4mgePWWCAmA   \n",
       "3           3  Petrol Vs Liquid Nitrogen | Freezing Experimen...  kXiYSI7H2b0   \n",
       "4           4                     Best Back to School Tech 2022!  ErMwWXQxHp0   \n",
       "\n",
       "  Published At Keyword    Likes  Comments      Views  \n",
       "0   2022-08-23    tech   3407.0     672.0   135612.0  \n",
       "1   2022-08-24    tech  76779.0    4306.0  1758063.0  \n",
       "2   2022-08-23    tech  63825.0    3338.0  1564007.0  \n",
       "3   2022-08-23    tech  71566.0    1426.0   922918.0  \n",
       "4   2022-08-08    tech  96513.0    5155.0  1855644.0  "
      ]
     },
     "execution_count": 4,
     "metadata": {},
     "output_type": "execute_result"
    }
   ],
   "source": [
    "videos.head()"
   ]
  },
  {
   "cell_type": "code",
   "execution_count": 5,
   "id": "f8a4dc48",
   "metadata": {},
   "outputs": [
    {
     "data": {
      "text/plain": [
       "1869"
      ]
     },
     "execution_count": 5,
     "metadata": {},
     "output_type": "execute_result"
    }
   ],
   "source": [
    "len(comments['Video ID'].unique())"
   ]
  },
  {
   "cell_type": "code",
   "execution_count": 6,
   "id": "fa1ea6b0",
   "metadata": {},
   "outputs": [
    {
     "data": {
      "text/html": [
       "<div>\n",
       "<style scoped>\n",
       "    .dataframe tbody tr th:only-of-type {\n",
       "        vertical-align: middle;\n",
       "    }\n",
       "\n",
       "    .dataframe tbody tr th {\n",
       "        vertical-align: top;\n",
       "    }\n",
       "\n",
       "    .dataframe thead th {\n",
       "        text-align: right;\n",
       "    }\n",
       "</style>\n",
       "<table border=\"1\" class=\"dataframe\">\n",
       "  <thead>\n",
       "    <tr style=\"text-align: right;\">\n",
       "      <th></th>\n",
       "      <th>Unnamed: 0</th>\n",
       "      <th>Video ID</th>\n",
       "      <th>Comment</th>\n",
       "      <th>Likes</th>\n",
       "      <th>Sentiment</th>\n",
       "    </tr>\n",
       "  </thead>\n",
       "  <tbody>\n",
       "    <tr>\n",
       "      <th>0</th>\n",
       "      <td>0</td>\n",
       "      <td>wAZZ-UWGVHI</td>\n",
       "      <td>Let's not forget that Apple Pay in 2014 requir...</td>\n",
       "      <td>95.0</td>\n",
       "      <td>1.0</td>\n",
       "    </tr>\n",
       "    <tr>\n",
       "      <th>1</th>\n",
       "      <td>1</td>\n",
       "      <td>wAZZ-UWGVHI</td>\n",
       "      <td>Here in NZ 50% of retailers don’t even have co...</td>\n",
       "      <td>19.0</td>\n",
       "      <td>0.0</td>\n",
       "    </tr>\n",
       "    <tr>\n",
       "      <th>2</th>\n",
       "      <td>2</td>\n",
       "      <td>wAZZ-UWGVHI</td>\n",
       "      <td>I will forever acknowledge this channel with t...</td>\n",
       "      <td>161.0</td>\n",
       "      <td>2.0</td>\n",
       "    </tr>\n",
       "    <tr>\n",
       "      <th>3</th>\n",
       "      <td>3</td>\n",
       "      <td>wAZZ-UWGVHI</td>\n",
       "      <td>Whenever I go to a place that doesn’t take App...</td>\n",
       "      <td>8.0</td>\n",
       "      <td>0.0</td>\n",
       "    </tr>\n",
       "    <tr>\n",
       "      <th>4</th>\n",
       "      <td>4</td>\n",
       "      <td>wAZZ-UWGVHI</td>\n",
       "      <td>Apple Pay is so convenient, secure, and easy t...</td>\n",
       "      <td>34.0</td>\n",
       "      <td>2.0</td>\n",
       "    </tr>\n",
       "    <tr>\n",
       "      <th>5</th>\n",
       "      <td>5</td>\n",
       "      <td>wAZZ-UWGVHI</td>\n",
       "      <td>We’ve been hounding my bank to adopt Apple pay...</td>\n",
       "      <td>8.0</td>\n",
       "      <td>1.0</td>\n",
       "    </tr>\n",
       "    <tr>\n",
       "      <th>6</th>\n",
       "      <td>6</td>\n",
       "      <td>wAZZ-UWGVHI</td>\n",
       "      <td>We only got Apple Pay in South Africa in 2020/...</td>\n",
       "      <td>29.0</td>\n",
       "      <td>2.0</td>\n",
       "    </tr>\n",
       "    <tr>\n",
       "      <th>7</th>\n",
       "      <td>7</td>\n",
       "      <td>wAZZ-UWGVHI</td>\n",
       "      <td>For now, I need both Apple Pay and the physica...</td>\n",
       "      <td>7.0</td>\n",
       "      <td>1.0</td>\n",
       "    </tr>\n",
       "    <tr>\n",
       "      <th>8</th>\n",
       "      <td>8</td>\n",
       "      <td>wAZZ-UWGVHI</td>\n",
       "      <td>In the United States, we have an abundance of ...</td>\n",
       "      <td>2.0</td>\n",
       "      <td>2.0</td>\n",
       "    </tr>\n",
       "    <tr>\n",
       "      <th>9</th>\n",
       "      <td>9</td>\n",
       "      <td>wAZZ-UWGVHI</td>\n",
       "      <td>In Cambodia, we have a universal QR code syste...</td>\n",
       "      <td>28.0</td>\n",
       "      <td>1.0</td>\n",
       "    </tr>\n",
       "  </tbody>\n",
       "</table>\n",
       "</div>"
      ],
      "text/plain": [
       "   Unnamed: 0     Video ID                                            Comment  \\\n",
       "0           0  wAZZ-UWGVHI  Let's not forget that Apple Pay in 2014 requir...   \n",
       "1           1  wAZZ-UWGVHI  Here in NZ 50% of retailers don’t even have co...   \n",
       "2           2  wAZZ-UWGVHI  I will forever acknowledge this channel with t...   \n",
       "3           3  wAZZ-UWGVHI  Whenever I go to a place that doesn’t take App...   \n",
       "4           4  wAZZ-UWGVHI  Apple Pay is so convenient, secure, and easy t...   \n",
       "5           5  wAZZ-UWGVHI  We’ve been hounding my bank to adopt Apple pay...   \n",
       "6           6  wAZZ-UWGVHI  We only got Apple Pay in South Africa in 2020/...   \n",
       "7           7  wAZZ-UWGVHI  For now, I need both Apple Pay and the physica...   \n",
       "8           8  wAZZ-UWGVHI  In the United States, we have an abundance of ...   \n",
       "9           9  wAZZ-UWGVHI  In Cambodia, we have a universal QR code syste...   \n",
       "\n",
       "   Likes  Sentiment  \n",
       "0   95.0        1.0  \n",
       "1   19.0        0.0  \n",
       "2  161.0        2.0  \n",
       "3    8.0        0.0  \n",
       "4   34.0        2.0  \n",
       "5    8.0        1.0  \n",
       "6   29.0        2.0  \n",
       "7    7.0        1.0  \n",
       "8    2.0        2.0  \n",
       "9   28.0        1.0  "
      ]
     },
     "execution_count": 6,
     "metadata": {},
     "output_type": "execute_result"
    }
   ],
   "source": [
    "comments[comments['Video ID'] == 'wAZZ-UWGVHI']"
   ]
  },
  {
   "cell_type": "code",
   "execution_count": 7,
   "id": "9217703d",
   "metadata": {},
   "outputs": [
    {
     "data": {
      "text/plain": [
       "(18409, 5)"
      ]
     },
     "execution_count": 7,
     "metadata": {},
     "output_type": "execute_result"
    }
   ],
   "source": [
    "comments.shape"
   ]
  },
  {
   "cell_type": "code",
   "execution_count": 8,
   "id": "50dbd777",
   "metadata": {},
   "outputs": [],
   "source": [
    "old_comments = comments.copy()"
   ]
  },
  {
   "cell_type": "code",
   "execution_count": 9,
   "id": "06082c19",
   "metadata": {},
   "outputs": [
    {
     "data": {
      "text/plain": [
       "2.0    11432\n",
       "1.0     4639\n",
       "0.0     2338\n",
       "Name: Sentiment, dtype: int64"
      ]
     },
     "execution_count": 9,
     "metadata": {},
     "output_type": "execute_result"
    }
   ],
   "source": [
    "comments['Sentiment'].value_counts()"
   ]
  },
  {
   "cell_type": "code",
   "execution_count": 10,
   "id": "094b44b2",
   "metadata": {},
   "outputs": [
    {
     "name": "stdout",
     "output_type": "stream",
     "text": [
      "There are 18409 data in this dataset\n",
      "Number of Duplicates: 0\n",
      "Number of Missing Values by column:\n",
      " Unnamed: 0    0\n",
      "Video ID      0\n",
      "Comment       1\n",
      "Likes         0\n",
      "Sentiment     0\n",
      "dtype: int64\n",
      "Number of Missing Values: 1\n"
     ]
    }
   ],
   "source": [
    "# How many reviews do we have?\n",
    "print('There are', comments.shape[0], 'data in this dataset')\n",
    "\n",
    "# Do we have duplicates?\n",
    "print('Number of Duplicates:', len(comments[comments.duplicated()]))\n",
    "\n",
    "# Do we have missing values?\n",
    "missing_values = comments.isnull().sum()\n",
    "print('Number of Missing Values by column:\\n',missing_values)\n",
    "\n",
    "print('Number of Missing Values:', comments.isnull().sum().sum())"
   ]
  },
  {
   "cell_type": "code",
   "execution_count": 11,
   "id": "d468ccab",
   "metadata": {},
   "outputs": [
    {
     "name": "stdout",
     "output_type": "stream",
     "text": [
      "Number of Missing Values by column:\n",
      " Unnamed: 0    0\n",
      "Video ID      0\n",
      "Comment       1\n",
      "Likes         0\n",
      "Sentiment     0\n",
      "dtype: int64\n"
     ]
    }
   ],
   "source": [
    "comments.replace(\"\", np.nan, inplace=True)\n",
    "missing_values = comments.isnull().sum()\n",
    "print('Number of Missing Values by column:\\n',missing_values)"
   ]
  },
  {
   "cell_type": "code",
   "execution_count": 12,
   "id": "79f3961d",
   "metadata": {},
   "outputs": [],
   "source": [
    "# Necessary libraries\n",
    "from sklearn.model_selection import train_test_split\n",
    "from sklearn import metrics\n",
    "\n",
    "import re\n",
    "import string\n",
    "import tensorflow as tf\n",
    "from tensorflow.keras.layers.experimental.preprocessing import TextVectorization\n",
    "from tensorflow import keras\n",
    "from tensorflow.keras.preprocessing import sequence\n",
    "from tensorflow.keras.models import Sequential\n",
    "from tensorflow.keras.layers import Dense, Embedding\n",
    "from tensorflow.keras.layers import SimpleRNN, LSTM\n",
    "from tensorflow.keras.preprocessing.text import Tokenizer\n",
    "from tensorflow.keras.preprocessing.sequence import pad_sequences"
   ]
  },
  {
   "cell_type": "markdown",
   "id": "213dce7e",
   "metadata": {},
   "source": [
    "### Data Cleaning"
   ]
  },
  {
   "cell_type": "code",
   "execution_count": 13,
   "id": "25b71a6a",
   "metadata": {},
   "outputs": [],
   "source": [
    "##CUSTOM DEFINED FUNCTIONS TO CLEAN THE textS\n",
    "\n",
    "import re\n",
    "\n",
    "def strip_emoji(text):\n",
    "    emoji_pattern = re.compile(\"[\"\n",
    "        u\"\\U0001F600-\\U0001F64F\"  # emoticons\n",
    "        u\"\\U0001F300-\\U0001F5FF\"  # symbols & pictographs\n",
    "        u\"\\U0001F680-\\U0001F6FF\"  # transport & map symbols\n",
    "        u\"\\U0001F1E0-\\U0001F1FF\"  # flags (iOS)\n",
    "        u\"\\U00002500-\\U00002BEF\"  # chinese characters\n",
    "        u\"\\U00002702-\\U000027B0\"\n",
    "        u\"\\U00002702-\\U000027B0\"\n",
    "        u\"\\U000024C2-\\U0001F251\"\n",
    "        u\"\\U0001f926-\\U0001f937\"\n",
    "        u\"\\U00010000-\\U0010ffff\"\n",
    "        u\"\\u2640-\\u2642\"\n",
    "        u\"\\u2600-\\u2B55\"\n",
    "        u\"\\u200d\"\n",
    "        u\"\\u23cf\"\n",
    "        u\"\\u23e9\"\n",
    "        u\"\\u231a\"\n",
    "        u\"\\ufe0f\"  # dingbats\n",
    "        u\"\\u3030\"\n",
    "                           \"]+\", flags=re.UNICODE)\n",
    "    return emoji_pattern.sub(r'', text)\n",
    "\n",
    "#Remove punctuations, links, mentions and \\r\\n new line characters\n",
    "def strip_all_entities(text):\n",
    "    text = text.replace('\\r', '').replace('\\n', ' ').replace('\\n', ' ').lower() #remove \\n and \\r and lowercase\n",
    "    text = re.sub(r\"(?:\\@|https?\\://)\\S+\", \"\", text) #remove links and mentions\n",
    "    text = re.sub(r'[^\\x00-\\x7f]',r'', text) #remove non utf8/ascii characters such as '\\x9a\\x91\\x97\\x9a\\x97'\n",
    "    banned_list= string.punctuation + 'Ã'+'±'+'ã'+'¼'+'â'+'»'+'§'\n",
    "    table = str.maketrans('', '', banned_list)\n",
    "    text = text.translate(table)\n",
    "    return text\n",
    "\n",
    "#clean hashtags at the end of the sentence, and keep those in the middle of the sentence by removing just the # symbol\n",
    "def clean_hashtags(text):\n",
    "    new_text = \" \".join(word.strip() for word in re.split('#(?!(?:hashtag)\\b)[\\w-]+(?=(?:\\s+#[\\w-]+)*\\s*$)', text)) #remove last hashtags\n",
    "    new_text2 = \" \".join(word.strip() for word in re.split('#|_', new_text)) #remove hashtags symbol from words in the middle of the sentence\n",
    "    return new_text2\n",
    "\n",
    "#Filter special characters such as & and $ present in some words\n",
    "def filter_chars(a):\n",
    "    sent = []\n",
    "    for word in a.split(' '):\n",
    "        if ('$' in word) | ('&' in word):\n",
    "            sent.append('')\n",
    "        else:\n",
    "            sent.append(word)\n",
    "    return ' '.join(sent)\n",
    "\n",
    "def remove_mult_spaces(text): # remove multiple spaces\n",
    "    return re.sub(\"\\s\\s+\" , \" \", text)"
   ]
  },
  {
   "cell_type": "code",
   "execution_count": 14,
   "id": "bdd15948",
   "metadata": {},
   "outputs": [
    {
     "name": "stdout",
     "output_type": "stream",
     "text": [
      "<class 'pandas.core.frame.DataFrame'>\n",
      "RangeIndex: 18409 entries, 0 to 18408\n",
      "Data columns (total 5 columns):\n",
      " #   Column      Non-Null Count  Dtype  \n",
      "---  ------      --------------  -----  \n",
      " 0   Unnamed: 0  18409 non-null  int64  \n",
      " 1   Video ID    18409 non-null  object \n",
      " 2   Comment     18408 non-null  object \n",
      " 3   Likes       18409 non-null  float64\n",
      " 4   Sentiment   18409 non-null  float64\n",
      "dtypes: float64(2), int64(1), object(2)\n",
      "memory usage: 719.2+ KB\n"
     ]
    }
   ],
   "source": [
    "comments.info()"
   ]
  },
  {
   "cell_type": "code",
   "execution_count": 15,
   "id": "fec4703b",
   "metadata": {},
   "outputs": [],
   "source": [
    "comments['new_text'] = (comments['Comment'].astype(str)\n",
    "                     .apply(strip_emoji)\n",
    "                     .apply(strip_all_entities)\n",
    "                     .apply(clean_hashtags)\n",
    "                     .apply(filter_chars)\n",
    "                     .apply(remove_mult_spaces))"
   ]
  },
  {
   "cell_type": "code",
   "execution_count": 16,
   "id": "b3b2a555",
   "metadata": {},
   "outputs": [
    {
     "data": {
      "text/plain": [
       "0    lets not forget that apple pay in 2014 require...\n",
       "1    here in nz 50 of retailers dont even have cont...\n",
       "2    i will forever acknowledge this channel with t...\n",
       "3    whenever i go to a place that doesnt take appl...\n",
       "4    apple pay is so convenient secure and easy to ...\n",
       "5    weve been hounding my bank to adopt apple pay ...\n",
       "6    we only got apple pay in south africa in 20202...\n",
       "7    for now i need both apple pay and the physical...\n",
       "8    in the united states we have an abundance of r...\n",
       "9    in cambodia we have a universal qr code system...\n",
       "Name: new_text, dtype: object"
      ]
     },
     "execution_count": 16,
     "metadata": {},
     "output_type": "execute_result"
    }
   ],
   "source": [
    "comments['new_text'].head(10)"
   ]
  },
  {
   "cell_type": "markdown",
   "id": "8d7fbeb3",
   "metadata": {},
   "source": [
    "### Text Length\n",
    "###### The code calculates the length of each text in the 'new_text' column"
   ]
  },
  {
   "cell_type": "code",
   "execution_count": 17,
   "id": "74e366cb",
   "metadata": {},
   "outputs": [],
   "source": [
    "comments['text_len'] = comments['new_text'].apply(lambda x: len(str(x).split()))"
   ]
  },
  {
   "cell_type": "code",
   "execution_count": 18,
   "id": "6cefafe8",
   "metadata": {},
   "outputs": [
    {
     "data": {
      "text/html": [
       "<div>\n",
       "<style scoped>\n",
       "    .dataframe tbody tr th:only-of-type {\n",
       "        vertical-align: middle;\n",
       "    }\n",
       "\n",
       "    .dataframe tbody tr th {\n",
       "        vertical-align: top;\n",
       "    }\n",
       "\n",
       "    .dataframe thead th {\n",
       "        text-align: right;\n",
       "    }\n",
       "</style>\n",
       "<table border=\"1\" class=\"dataframe\">\n",
       "  <thead>\n",
       "    <tr style=\"text-align: right;\">\n",
       "      <th></th>\n",
       "      <th>Unnamed: 0</th>\n",
       "      <th>Video ID</th>\n",
       "      <th>Comment</th>\n",
       "      <th>Likes</th>\n",
       "      <th>Sentiment</th>\n",
       "      <th>new_text</th>\n",
       "      <th>text_len</th>\n",
       "    </tr>\n",
       "  </thead>\n",
       "  <tbody>\n",
       "    <tr>\n",
       "      <th>35</th>\n",
       "      <td>35</td>\n",
       "      <td>kXiYSI7H2b0</td>\n",
       "      <td>😻😅 കേരളത്തിൽ ആദ്യമായി പെട്രോളിനെ എയ്സ് ആക്കിയ ...</td>\n",
       "      <td>380.0</td>\n",
       "      <td>1.0</td>\n",
       "      <td>m4tech</td>\n",
       "      <td>1</td>\n",
       "    </tr>\n",
       "    <tr>\n",
       "      <th>167</th>\n",
       "      <td>167</td>\n",
       "      <td>PKATJiyz0iI</td>\n",
       "      <td>Cool! ♥👍</td>\n",
       "      <td>1.0</td>\n",
       "      <td>2.0</td>\n",
       "      <td>cool</td>\n",
       "      <td>1</td>\n",
       "    </tr>\n",
       "    <tr>\n",
       "      <th>278</th>\n",
       "      <td>278</td>\n",
       "      <td>bbbQ_X45FaA</td>\n",
       "      <td>awesome</td>\n",
       "      <td>1.0</td>\n",
       "      <td>2.0</td>\n",
       "      <td>awesome</td>\n",
       "      <td>1</td>\n",
       "    </tr>\n",
       "    <tr>\n",
       "      <th>602</th>\n",
       "      <td>602</td>\n",
       "      <td>NS-9bd2hOOQ</td>\n",
       "      <td>🙄</td>\n",
       "      <td>0.0</td>\n",
       "      <td>0.0</td>\n",
       "      <td></td>\n",
       "      <td>0</td>\n",
       "    </tr>\n",
       "    <tr>\n",
       "      <th>654</th>\n",
       "      <td>654</td>\n",
       "      <td>Sdm1WsGGU0w</td>\n",
       "      <td>क्या RSS के पास इतना हथियार है उसको आपलोग छापे...</td>\n",
       "      <td>0.0</td>\n",
       "      <td>1.0</td>\n",
       "      <td>rss</td>\n",
       "      <td>1</td>\n",
       "    </tr>\n",
       "    <tr>\n",
       "      <th>659</th>\n",
       "      <td>659</td>\n",
       "      <td>voU9-39bicg</td>\n",
       "      <td>火災があったのはラブホテルじゃん。。。</td>\n",
       "      <td>0.0</td>\n",
       "      <td>1.0</td>\n",
       "      <td></td>\n",
       "      <td>0</td>\n",
       "    </tr>\n",
       "    <tr>\n",
       "      <th>661</th>\n",
       "      <td>661</td>\n",
       "      <td>88w5Q03Lcro</td>\n",
       "      <td>මොකුත් කියන්නෑ සිංහ්ල්ලයට තේරෙන්නැති නිසා</td>\n",
       "      <td>3.0</td>\n",
       "      <td>1.0</td>\n",
       "      <td></td>\n",
       "      <td>0</td>\n",
       "    </tr>\n",
       "    <tr>\n",
       "      <th>664</th>\n",
       "      <td>664</td>\n",
       "      <td>88w5Q03Lcro</td>\n",
       "      <td>සේනාධි ගුරාට සේවන්දි මෑනියන්ගේ  පිහිටයි.😂😂</td>\n",
       "      <td>0.0</td>\n",
       "      <td>1.0</td>\n",
       "      <td></td>\n",
       "      <td>0</td>\n",
       "    </tr>\n",
       "    <tr>\n",
       "      <th>666</th>\n",
       "      <td>666</td>\n",
       "      <td>88w5Q03Lcro</td>\n",
       "      <td>Ape..aege...thiyena....keeli...tika....aran......</td>\n",
       "      <td>0.0</td>\n",
       "      <td>1.0</td>\n",
       "      <td>apeaegethiyenakeelitikaaranannapuluwande</td>\n",
       "      <td>1</td>\n",
       "    </tr>\n",
       "    <tr>\n",
       "      <th>709</th>\n",
       "      <td>709</td>\n",
       "      <td>kSKxCN8M-WE</td>\n",
       "      <td>චීනය සක්කිලී රටක් උන් බොර දියෙත් මාලූ බානෝ තව ...</td>\n",
       "      <td>7.0</td>\n",
       "      <td>1.0</td>\n",
       "      <td></td>\n",
       "      <td>0</td>\n",
       "    </tr>\n",
       "    <tr>\n",
       "      <th>710</th>\n",
       "      <td>710</td>\n",
       "      <td>kSKxCN8M-WE</td>\n",
       "      <td>අනවශ්‍ය භාන්ඩ ආනයනය තහනම්  \\nකරපු එක ඉතා හොදයි...</td>\n",
       "      <td>4.0</td>\n",
       "      <td>1.0</td>\n",
       "      <td></td>\n",
       "      <td>0</td>\n",
       "    </tr>\n",
       "    <tr>\n",
       "      <th>711</th>\n",
       "      <td>711</td>\n",
       "      <td>kSKxCN8M-WE</td>\n",
       "      <td>සජියො ඔබගෙ තාත්ත ගෙ කාලෙ  අමතකද තරුන කොල්ලො කෙ...</td>\n",
       "      <td>2.0</td>\n",
       "      <td>1.0</td>\n",
       "      <td></td>\n",
       "      <td>0</td>\n",
       "    </tr>\n",
       "    <tr>\n",
       "      <th>712</th>\n",
       "      <td>712</td>\n",
       "      <td>kSKxCN8M-WE</td>\n",
       "      <td>අනෙ යකො සුපඩීසල් ගොවිතැනට නොව තොපෙ සුපගිබොග වා...</td>\n",
       "      <td>2.0</td>\n",
       "      <td>1.0</td>\n",
       "      <td>7</td>\n",
       "      <td>1</td>\n",
       "    </tr>\n",
       "    <tr>\n",
       "      <th>713</th>\n",
       "      <td>713</td>\n",
       "      <td>kSKxCN8M-WE</td>\n",
       "      <td>මේ ඝන ගෙඩියො ටික නම් එලවන්න ඕනෙ රටෙන්ම</td>\n",
       "      <td>2.0</td>\n",
       "      <td>1.0</td>\n",
       "      <td></td>\n",
       "      <td>0</td>\n",
       "    </tr>\n",
       "    <tr>\n",
       "      <th>714</th>\n",
       "      <td>714</td>\n",
       "      <td>kSKxCN8M-WE</td>\n",
       "      <td>අනේ පලයල්ල ජි එල් පිනක් දහමක් කරගන ඉදපන්</td>\n",
       "      <td>1.0</td>\n",
       "      <td>1.0</td>\n",
       "      <td></td>\n",
       "      <td>0</td>\n",
       "    </tr>\n",
       "    <tr>\n",
       "      <th>716</th>\n",
       "      <td>716</td>\n",
       "      <td>kSKxCN8M-WE</td>\n",
       "      <td>🤟</td>\n",
       "      <td>1.0</td>\n",
       "      <td>1.0</td>\n",
       "      <td></td>\n",
       "      <td>0</td>\n",
       "    </tr>\n",
       "    <tr>\n",
       "      <th>717</th>\n",
       "      <td>717</td>\n",
       "      <td>kSKxCN8M-WE</td>\n",
       "      <td>Aaepalaballayanna.tuopiltteeknsalliaran.hodata...</td>\n",
       "      <td>0.0</td>\n",
       "      <td>1.0</td>\n",
       "      <td>aaepalaballayannatuopiltteeknsalliaranhodatana...</td>\n",
       "      <td>1</td>\n",
       "    </tr>\n",
       "    <tr>\n",
       "      <th>718</th>\n",
       "      <td>718</td>\n",
       "      <td>kSKxCN8M-WE</td>\n",
       "      <td>Mepitaratawl.walinaperatata.hamadatama.athadan...</td>\n",
       "      <td>0.0</td>\n",
       "      <td>1.0</td>\n",
       "      <td>mepitaratawlwalinaperatatahamadatamaathadanaka...</td>\n",
       "      <td>1</td>\n",
       "    </tr>\n",
       "    <tr>\n",
       "      <th>755</th>\n",
       "      <td>755</td>\n",
       "      <td>f2TK2lpFFzs</td>\n",
       "      <td>Oky</td>\n",
       "      <td>0.0</td>\n",
       "      <td>1.0</td>\n",
       "      <td>oky</td>\n",
       "      <td>1</td>\n",
       "    </tr>\n",
       "    <tr>\n",
       "      <th>756</th>\n",
       "      <td>756</td>\n",
       "      <td>f2TK2lpFFzs</td>\n",
       "      <td>Iukikuik</td>\n",
       "      <td>0.0</td>\n",
       "      <td>1.0</td>\n",
       "      <td>iukikuik</td>\n",
       "      <td>1</td>\n",
       "    </tr>\n",
       "    <tr>\n",
       "      <th>759</th>\n",
       "      <td>759</td>\n",
       "      <td>8Vqj8Ls29HI</td>\n",
       "      <td>Mokakda.ratata.karapu.sewaya.rata.kewa.wensa.k...</td>\n",
       "      <td>0.0</td>\n",
       "      <td>2.0</td>\n",
       "      <td>mokakdaratatakarapusewayaratakewawensakaraekad...</td>\n",
       "      <td>1</td>\n",
       "    </tr>\n",
       "    <tr>\n",
       "      <th>760</th>\n",
       "      <td>760</td>\n",
       "      <td>8Vqj8Ls29HI</td>\n",
       "      <td>වතුරත් පිටරටින්???</td>\n",
       "      <td>0.0</td>\n",
       "      <td>1.0</td>\n",
       "      <td></td>\n",
       "      <td>0</td>\n",
       "    </tr>\n",
       "    <tr>\n",
       "      <th>763</th>\n",
       "      <td>763</td>\n",
       "      <td>8Vqj8Ls29HI</td>\n",
       "      <td>Atakota,parli,mantuva,hora,hatta,vitarada,hamb...</td>\n",
       "      <td>0.0</td>\n",
       "      <td>1.0</td>\n",
       "      <td>atakotaparlimantuvahorahattavitaradahambakarag...</td>\n",
       "      <td>1</td>\n",
       "    </tr>\n",
       "    <tr>\n",
       "      <th>764</th>\n",
       "      <td>764</td>\n",
       "      <td>8Vqj8Ls29HI</td>\n",
       "      <td>.ranilta.redi.netuwa.inna.kiyapalla.modaya.oya...</td>\n",
       "      <td>0.0</td>\n",
       "      <td>1.0</td>\n",
       "      <td>raniltaredinetuwainnakiyapallamodayaoyanakiheg...</td>\n",
       "      <td>1</td>\n",
       "    </tr>\n",
       "    <tr>\n",
       "      <th>766</th>\n",
       "      <td>766</td>\n",
       "      <td>8Vqj8Ls29HI</td>\n",
       "      <td>Bala.lobi.sajabe.panala.p._._.a.denawa.</td>\n",
       "      <td>0.0</td>\n",
       "      <td>1.0</td>\n",
       "      <td>balalobisajabepanalapadenawa</td>\n",
       "      <td>1</td>\n",
       "    </tr>\n",
       "    <tr>\n",
       "      <th>807</th>\n",
       "      <td>807</td>\n",
       "      <td>bLHeJmGUyWQ</td>\n",
       "      <td>අහිංසක  මිනිස්සු ට උපකාර  කරන  සියලු දෙනාටම</td>\n",
       "      <td>0.0</td>\n",
       "      <td>1.0</td>\n",
       "      <td></td>\n",
       "      <td>0</td>\n",
       "    </tr>\n",
       "    <tr>\n",
       "      <th>808</th>\n",
       "      <td>808</td>\n",
       "      <td>bLHeJmGUyWQ</td>\n",
       "      <td>සහතික  ඇත්ත</td>\n",
       "      <td>0.0</td>\n",
       "      <td>1.0</td>\n",
       "      <td></td>\n",
       "      <td>0</td>\n",
       "    </tr>\n",
       "    <tr>\n",
       "      <th>809</th>\n",
       "      <td>809</td>\n",
       "      <td>bLHeJmGUyWQ</td>\n",
       "      <td>ත්‍රස්තවාදි ඉන්න රටකට විදේශීකය පැමිණිම ලකුනක්.😡</td>\n",
       "      <td>0.0</td>\n",
       "      <td>1.0</td>\n",
       "      <td></td>\n",
       "      <td>0</td>\n",
       "    </tr>\n",
       "    <tr>\n",
       "      <th>810</th>\n",
       "      <td>810</td>\n",
       "      <td>bLHeJmGUyWQ</td>\n",
       "      <td>ගජ මිතුරැ සංගමයට ජයක්.</td>\n",
       "      <td>0.0</td>\n",
       "      <td>1.0</td>\n",
       "      <td></td>\n",
       "      <td>0</td>\n",
       "    </tr>\n",
       "    <tr>\n",
       "      <th>811</th>\n",
       "      <td>811</td>\n",
       "      <td>bLHeJmGUyWQ</td>\n",
       "      <td>පට්ට හොිරැ කලබලේ.</td>\n",
       "      <td>0.0</td>\n",
       "      <td>1.0</td>\n",
       "      <td></td>\n",
       "      <td>0</td>\n",
       "    </tr>\n",
       "  </tbody>\n",
       "</table>\n",
       "</div>"
      ],
      "text/plain": [
       "     Unnamed: 0     Video ID  \\\n",
       "35           35  kXiYSI7H2b0   \n",
       "167         167  PKATJiyz0iI   \n",
       "278         278  bbbQ_X45FaA   \n",
       "602         602  NS-9bd2hOOQ   \n",
       "654         654  Sdm1WsGGU0w   \n",
       "659         659  voU9-39bicg   \n",
       "661         661  88w5Q03Lcro   \n",
       "664         664  88w5Q03Lcro   \n",
       "666         666  88w5Q03Lcro   \n",
       "709         709  kSKxCN8M-WE   \n",
       "710         710  kSKxCN8M-WE   \n",
       "711         711  kSKxCN8M-WE   \n",
       "712         712  kSKxCN8M-WE   \n",
       "713         713  kSKxCN8M-WE   \n",
       "714         714  kSKxCN8M-WE   \n",
       "716         716  kSKxCN8M-WE   \n",
       "717         717  kSKxCN8M-WE   \n",
       "718         718  kSKxCN8M-WE   \n",
       "755         755  f2TK2lpFFzs   \n",
       "756         756  f2TK2lpFFzs   \n",
       "759         759  8Vqj8Ls29HI   \n",
       "760         760  8Vqj8Ls29HI   \n",
       "763         763  8Vqj8Ls29HI   \n",
       "764         764  8Vqj8Ls29HI   \n",
       "766         766  8Vqj8Ls29HI   \n",
       "807         807  bLHeJmGUyWQ   \n",
       "808         808  bLHeJmGUyWQ   \n",
       "809         809  bLHeJmGUyWQ   \n",
       "810         810  bLHeJmGUyWQ   \n",
       "811         811  bLHeJmGUyWQ   \n",
       "\n",
       "                                               Comment  Likes  Sentiment  \\\n",
       "35   😻😅 കേരളത്തിൽ ആദ്യമായി പെട്രോളിനെ എയ്സ് ആക്കിയ ...  380.0        1.0   \n",
       "167                                           Cool! ♥👍    1.0        2.0   \n",
       "278                                            awesome    1.0        2.0   \n",
       "602                                                  🙄    0.0        0.0   \n",
       "654  क्या RSS के पास इतना हथियार है उसको आपलोग छापे...    0.0        1.0   \n",
       "659                                火災があったのはラブホテルじゃん。。。    0.0        1.0   \n",
       "661          මොකුත් කියන්නෑ සිංහ්ල්ලයට තේරෙන්නැති නිසා    3.0        1.0   \n",
       "664         සේනාධි ගුරාට සේවන්දි මෑනියන්ගේ  පිහිටයි.😂😂    0.0        1.0   \n",
       "666  Ape..aege...thiyena....keeli...tika....aran......    0.0        1.0   \n",
       "709  චීනය සක්කිලී රටක් උන් බොර දියෙත් මාලූ බානෝ තව ...    7.0        1.0   \n",
       "710  අනවශ්‍ය භාන්ඩ ආනයනය තහනම්  \\nකරපු එක ඉතා හොදයි...    4.0        1.0   \n",
       "711  සජියො ඔබගෙ තාත්ත ගෙ කාලෙ  අමතකද තරුන කොල්ලො කෙ...    2.0        1.0   \n",
       "712  අනෙ යකො සුපඩීසල් ගොවිතැනට නොව තොපෙ සුපගිබොග වා...    2.0        1.0   \n",
       "713             මේ ඝන ගෙඩියො ටික නම් එලවන්න ඕනෙ රටෙන්ම    2.0        1.0   \n",
       "714           අනේ පලයල්ල ජි එල් පිනක් දහමක් කරගන ඉදපන්    1.0        1.0   \n",
       "716                                                  🤟    1.0        1.0   \n",
       "717  Aaepalaballayanna.tuopiltteeknsalliaran.hodata...    0.0        1.0   \n",
       "718  Mepitaratawl.walinaperatata.hamadatama.athadan...    0.0        1.0   \n",
       "755                                                Oky    0.0        1.0   \n",
       "756                                           Iukikuik    0.0        1.0   \n",
       "759  Mokakda.ratata.karapu.sewaya.rata.kewa.wensa.k...    0.0        2.0   \n",
       "760                                 වතුරත් පිටරටින්???    0.0        1.0   \n",
       "763  Atakota,parli,mantuva,hora,hatta,vitarada,hamb...    0.0        1.0   \n",
       "764  .ranilta.redi.netuwa.inna.kiyapalla.modaya.oya...    0.0        1.0   \n",
       "766            Bala.lobi.sajabe.panala.p._._.a.denawa.    0.0        1.0   \n",
       "807        අහිංසක  මිනිස්සු ට උපකාර  කරන  සියලු දෙනාටම    0.0        1.0   \n",
       "808                                        සහතික  ඇත්ත    0.0        1.0   \n",
       "809   ත්‍රස්තවාදි ඉන්න රටකට විදේශීකය පැමිණිම ලකුනක්.😡    0.0        1.0   \n",
       "810                             ගජ මිතුරැ සංගමයට ජයක්.    0.0        1.0   \n",
       "811                                පට්ට හොිරැ කලබලේ.    0.0        1.0   \n",
       "\n",
       "                                              new_text  text_len  \n",
       "35                                              m4tech         1  \n",
       "167                                               cool         1  \n",
       "278                                            awesome         1  \n",
       "602                                                            0  \n",
       "654                                                rss         1  \n",
       "659                                                            0  \n",
       "661                                                            0  \n",
       "664                                                            0  \n",
       "666           apeaegethiyenakeelitikaaranannapuluwande         1  \n",
       "709                                                            0  \n",
       "710                                                            0  \n",
       "711                                                            0  \n",
       "712                                                  7         1  \n",
       "713                                                            0  \n",
       "714                                                            0  \n",
       "716                                                            0  \n",
       "717  aaepalaballayannatuopiltteeknsalliaranhodatana...         1  \n",
       "718  mepitaratawlwalinaperatatahamadatamaathadanaka...         1  \n",
       "755                                                oky         1  \n",
       "756                                           iukikuik         1  \n",
       "759  mokakdaratatakarapusewayaratakewawensakaraekad...         1  \n",
       "760                                                            0  \n",
       "763  atakotaparlimantuvahorahattavitaradahambakarag...         1  \n",
       "764  raniltaredinetuwainnakiyapallamodayaoyanakiheg...         1  \n",
       "766                       balalobisajabepanalapadenawa         1  \n",
       "807                                                            0  \n",
       "808                                                            0  \n",
       "809                                                            0  \n",
       "810                                                            0  \n",
       "811                                                            0  "
      ]
     },
     "execution_count": 18,
     "metadata": {},
     "output_type": "execute_result"
    }
   ],
   "source": [
    "# We filter the DataFrame to remove rows with text lengths less than 2 because they are either empty rows or do not carry much insight.\n",
    "\n",
    "data_head=comments[comments['text_len']<2]\n",
    "data_head.head(30)"
   ]
  },
  {
   "cell_type": "code",
   "execution_count": 19,
   "id": "ef19da7b",
   "metadata": {},
   "outputs": [
    {
     "data": {
      "text/plain": [
       "(380, 7)"
      ]
     },
     "execution_count": 19,
     "metadata": {},
     "output_type": "execute_result"
    }
   ],
   "source": [
    "data_head.shape"
   ]
  },
  {
   "cell_type": "code",
   "execution_count": 20,
   "id": "f6184942",
   "metadata": {},
   "outputs": [
    {
     "data": {
      "text/html": [
       "<div>\n",
       "<style scoped>\n",
       "    .dataframe tbody tr th:only-of-type {\n",
       "        vertical-align: middle;\n",
       "    }\n",
       "\n",
       "    .dataframe tbody tr th {\n",
       "        vertical-align: top;\n",
       "    }\n",
       "\n",
       "    .dataframe thead th {\n",
       "        text-align: right;\n",
       "    }\n",
       "</style>\n",
       "<table border=\"1\" class=\"dataframe\">\n",
       "  <thead>\n",
       "    <tr style=\"text-align: right;\">\n",
       "      <th></th>\n",
       "      <th>Unnamed: 0</th>\n",
       "      <th>Video ID</th>\n",
       "      <th>Comment</th>\n",
       "      <th>Likes</th>\n",
       "      <th>Sentiment</th>\n",
       "      <th>new_text</th>\n",
       "      <th>text_len</th>\n",
       "    </tr>\n",
       "  </thead>\n",
       "  <tbody>\n",
       "    <tr>\n",
       "      <th>0</th>\n",
       "      <td>0</td>\n",
       "      <td>wAZZ-UWGVHI</td>\n",
       "      <td>Let's not forget that Apple Pay in 2014 requir...</td>\n",
       "      <td>95.0</td>\n",
       "      <td>1.0</td>\n",
       "      <td>lets not forget that apple pay in 2014 require...</td>\n",
       "      <td>57</td>\n",
       "    </tr>\n",
       "    <tr>\n",
       "      <th>1</th>\n",
       "      <td>1</td>\n",
       "      <td>wAZZ-UWGVHI</td>\n",
       "      <td>Here in NZ 50% of retailers don’t even have co...</td>\n",
       "      <td>19.0</td>\n",
       "      <td>0.0</td>\n",
       "      <td>here in nz 50 of retailers dont even have cont...</td>\n",
       "      <td>29</td>\n",
       "    </tr>\n",
       "    <tr>\n",
       "      <th>2</th>\n",
       "      <td>2</td>\n",
       "      <td>wAZZ-UWGVHI</td>\n",
       "      <td>I will forever acknowledge this channel with t...</td>\n",
       "      <td>161.0</td>\n",
       "      <td>2.0</td>\n",
       "      <td>i will forever acknowledge this channel with t...</td>\n",
       "      <td>31</td>\n",
       "    </tr>\n",
       "    <tr>\n",
       "      <th>3</th>\n",
       "      <td>3</td>\n",
       "      <td>wAZZ-UWGVHI</td>\n",
       "      <td>Whenever I go to a place that doesn’t take App...</td>\n",
       "      <td>8.0</td>\n",
       "      <td>0.0</td>\n",
       "      <td>whenever i go to a place that doesnt take appl...</td>\n",
       "      <td>83</td>\n",
       "    </tr>\n",
       "    <tr>\n",
       "      <th>4</th>\n",
       "      <td>4</td>\n",
       "      <td>wAZZ-UWGVHI</td>\n",
       "      <td>Apple Pay is so convenient, secure, and easy t...</td>\n",
       "      <td>34.0</td>\n",
       "      <td>2.0</td>\n",
       "      <td>apple pay is so convenient secure and easy to ...</td>\n",
       "      <td>26</td>\n",
       "    </tr>\n",
       "  </tbody>\n",
       "</table>\n",
       "</div>"
      ],
      "text/plain": [
       "   Unnamed: 0     Video ID                                            Comment  \\\n",
       "0           0  wAZZ-UWGVHI  Let's not forget that Apple Pay in 2014 requir...   \n",
       "1           1  wAZZ-UWGVHI  Here in NZ 50% of retailers don’t even have co...   \n",
       "2           2  wAZZ-UWGVHI  I will forever acknowledge this channel with t...   \n",
       "3           3  wAZZ-UWGVHI  Whenever I go to a place that doesn’t take App...   \n",
       "4           4  wAZZ-UWGVHI  Apple Pay is so convenient, secure, and easy t...   \n",
       "\n",
       "   Likes  Sentiment                                           new_text  \\\n",
       "0   95.0        1.0  lets not forget that apple pay in 2014 require...   \n",
       "1   19.0        0.0  here in nz 50 of retailers dont even have cont...   \n",
       "2  161.0        2.0  i will forever acknowledge this channel with t...   \n",
       "3    8.0        0.0  whenever i go to a place that doesnt take appl...   \n",
       "4   34.0        2.0  apple pay is so convenient secure and easy to ...   \n",
       "\n",
       "   text_len  \n",
       "0        57  \n",
       "1        29  \n",
       "2        31  \n",
       "3        83  \n",
       "4        26  "
      ]
     },
     "execution_count": 20,
     "metadata": {},
     "output_type": "execute_result"
    }
   ],
   "source": [
    "comments.head()"
   ]
  },
  {
   "cell_type": "code",
   "execution_count": 21,
   "id": "1fc70037",
   "metadata": {},
   "outputs": [],
   "source": [
    "data_comments = comments[comments['text_len'] >= 2]"
   ]
  },
  {
   "cell_type": "code",
   "execution_count": 22,
   "id": "20f6522a",
   "metadata": {},
   "outputs": [
    {
     "data": {
      "text/plain": [
       "(18029, 7)"
      ]
     },
     "execution_count": 22,
     "metadata": {},
     "output_type": "execute_result"
    }
   ],
   "source": [
    "data_comments.shape"
   ]
  },
  {
   "cell_type": "code",
   "execution_count": 23,
   "id": "4642cafc",
   "metadata": {},
   "outputs": [
    {
     "name": "stderr",
     "output_type": "stream",
     "text": [
      "C:\\Users\\User\\AppData\\Local\\Temp\\ipykernel_15268\\1062432572.py:4: SettingWithCopyWarning: \n",
      "A value is trying to be set on a copy of a slice from a DataFrame\n",
      "\n",
      "See the caveats in the documentation: https://pandas.pydata.org/pandas-docs/stable/user_guide/indexing.html#returning-a-view-versus-a-copy\n",
      "  data_comments.drop(columns_to_drop, axis=1, inplace=True)\n"
     ]
    }
   ],
   "source": [
    "columns_to_drop = ['Comment', 'Likes', 'Unnamed: 0']\n",
    "\n",
    "# Drop the specified columns\n",
    "data_comments.drop(columns_to_drop, axis=1, inplace=True)"
   ]
  },
  {
   "cell_type": "code",
   "execution_count": 24,
   "id": "0b3807cc",
   "metadata": {},
   "outputs": [
    {
     "data": {
      "text/html": [
       "<div>\n",
       "<style scoped>\n",
       "    .dataframe tbody tr th:only-of-type {\n",
       "        vertical-align: middle;\n",
       "    }\n",
       "\n",
       "    .dataframe tbody tr th {\n",
       "        vertical-align: top;\n",
       "    }\n",
       "\n",
       "    .dataframe thead th {\n",
       "        text-align: right;\n",
       "    }\n",
       "</style>\n",
       "<table border=\"1\" class=\"dataframe\">\n",
       "  <thead>\n",
       "    <tr style=\"text-align: right;\">\n",
       "      <th></th>\n",
       "      <th>Video ID</th>\n",
       "      <th>Sentiment</th>\n",
       "      <th>new_text</th>\n",
       "      <th>text_len</th>\n",
       "    </tr>\n",
       "  </thead>\n",
       "  <tbody>\n",
       "    <tr>\n",
       "      <th>0</th>\n",
       "      <td>wAZZ-UWGVHI</td>\n",
       "      <td>1.0</td>\n",
       "      <td>lets not forget that apple pay in 2014 require...</td>\n",
       "      <td>57</td>\n",
       "    </tr>\n",
       "    <tr>\n",
       "      <th>1</th>\n",
       "      <td>wAZZ-UWGVHI</td>\n",
       "      <td>0.0</td>\n",
       "      <td>here in nz 50 of retailers dont even have cont...</td>\n",
       "      <td>29</td>\n",
       "    </tr>\n",
       "    <tr>\n",
       "      <th>2</th>\n",
       "      <td>wAZZ-UWGVHI</td>\n",
       "      <td>2.0</td>\n",
       "      <td>i will forever acknowledge this channel with t...</td>\n",
       "      <td>31</td>\n",
       "    </tr>\n",
       "    <tr>\n",
       "      <th>3</th>\n",
       "      <td>wAZZ-UWGVHI</td>\n",
       "      <td>0.0</td>\n",
       "      <td>whenever i go to a place that doesnt take appl...</td>\n",
       "      <td>83</td>\n",
       "    </tr>\n",
       "    <tr>\n",
       "      <th>4</th>\n",
       "      <td>wAZZ-UWGVHI</td>\n",
       "      <td>2.0</td>\n",
       "      <td>apple pay is so convenient secure and easy to ...</td>\n",
       "      <td>26</td>\n",
       "    </tr>\n",
       "  </tbody>\n",
       "</table>\n",
       "</div>"
      ],
      "text/plain": [
       "      Video ID  Sentiment                                           new_text  \\\n",
       "0  wAZZ-UWGVHI        1.0  lets not forget that apple pay in 2014 require...   \n",
       "1  wAZZ-UWGVHI        0.0  here in nz 50 of retailers dont even have cont...   \n",
       "2  wAZZ-UWGVHI        2.0  i will forever acknowledge this channel with t...   \n",
       "3  wAZZ-UWGVHI        0.0  whenever i go to a place that doesnt take appl...   \n",
       "4  wAZZ-UWGVHI        2.0  apple pay is so convenient secure and easy to ...   \n",
       "\n",
       "   text_len  \n",
       "0        57  \n",
       "1        29  \n",
       "2        31  \n",
       "3        83  \n",
       "4        26  "
      ]
     },
     "execution_count": 24,
     "metadata": {},
     "output_type": "execute_result"
    }
   ],
   "source": [
    "data_comments.head()"
   ]
  },
  {
   "cell_type": "markdown",
   "id": "0c2df902",
   "metadata": {},
   "source": [
    "### Stemming"
   ]
  },
  {
   "cell_type": "code",
   "execution_count": 25,
   "id": "9ad30cb8",
   "metadata": {},
   "outputs": [],
   "source": [
    "import nltk"
   ]
  },
  {
   "cell_type": "code",
   "execution_count": 26,
   "id": "5c7dd2eb",
   "metadata": {},
   "outputs": [
    {
     "name": "stderr",
     "output_type": "stream",
     "text": [
      "[nltk_data] Downloading package punkt to\n",
      "[nltk_data]     C:\\Users\\User\\AppData\\Roaming\\nltk_data...\n",
      "[nltk_data]   Package punkt is already up-to-date!\n",
      "[nltk_data] Downloading package stopwords to\n",
      "[nltk_data]     C:\\Users\\User\\AppData\\Roaming\\nltk_data...\n",
      "[nltk_data]   Package stopwords is already up-to-date!\n",
      "C:\\Users\\User\\AppData\\Local\\Temp\\ipykernel_15268\\3488342548.py:17: SettingWithCopyWarning: \n",
      "A value is trying to be set on a copy of a slice from a DataFrame.\n",
      "Try using .loc[row_indexer,col_indexer] = value instead\n",
      "\n",
      "See the caveats in the documentation: https://pandas.pydata.org/pandas-docs/stable/user_guide/indexing.html#returning-a-view-versus-a-copy\n",
      "  data_comments['Stemmed'] = stemmed\n",
      "C:\\Users\\User\\AppData\\Local\\Temp\\ipykernel_15268\\3488342548.py:18: SettingWithCopyWarning: \n",
      "A value is trying to be set on a copy of a slice from a DataFrame.\n",
      "Try using .loc[row_indexer,col_indexer] = value instead\n",
      "\n",
      "See the caveats in the documentation: https://pandas.pydata.org/pandas-docs/stable/user_guide/indexing.html#returning-a-view-versus-a-copy\n",
      "  data_comments['Stemmed'] = data_comments['Stemmed'].apply(\" \".join)\n"
     ]
    }
   ],
   "source": [
    "from nltk.stem import PorterStemmer\n",
    "from nltk.tokenize import word_tokenize\n",
    "\n",
    "nltk.download('punkt')\n",
    "nltk.download('stopwords')\n",
    "\n",
    "ps = PorterStemmer()\n",
    "\n",
    "stemmed = []\n",
    "for i in range(len(data_comments)):\n",
    "  stem_list = []\n",
    "  words = word_tokenize(data_comments['new_text'].iloc[i])\n",
    "  for w in words:\n",
    "    stem_list.append(ps.stem(w))\n",
    "  stemmed.append(stem_list)\n",
    "\n",
    "data_comments['Stemmed'] = stemmed\n",
    "data_comments['Stemmed'] = data_comments['Stemmed'].apply(\" \".join)"
   ]
  },
  {
   "cell_type": "code",
   "execution_count": 27,
   "id": "742d4d8a",
   "metadata": {},
   "outputs": [
    {
     "data": {
      "text/html": [
       "<div>\n",
       "<style scoped>\n",
       "    .dataframe tbody tr th:only-of-type {\n",
       "        vertical-align: middle;\n",
       "    }\n",
       "\n",
       "    .dataframe tbody tr th {\n",
       "        vertical-align: top;\n",
       "    }\n",
       "\n",
       "    .dataframe thead th {\n",
       "        text-align: right;\n",
       "    }\n",
       "</style>\n",
       "<table border=\"1\" class=\"dataframe\">\n",
       "  <thead>\n",
       "    <tr style=\"text-align: right;\">\n",
       "      <th></th>\n",
       "      <th>Video ID</th>\n",
       "      <th>Sentiment</th>\n",
       "      <th>new_text</th>\n",
       "      <th>text_len</th>\n",
       "      <th>Stemmed</th>\n",
       "    </tr>\n",
       "  </thead>\n",
       "  <tbody>\n",
       "    <tr>\n",
       "      <th>0</th>\n",
       "      <td>wAZZ-UWGVHI</td>\n",
       "      <td>1.0</td>\n",
       "      <td>lets not forget that apple pay in 2014 require...</td>\n",
       "      <td>57</td>\n",
       "      <td>let not forget that appl pay in 2014 requir a ...</td>\n",
       "    </tr>\n",
       "    <tr>\n",
       "      <th>1</th>\n",
       "      <td>wAZZ-UWGVHI</td>\n",
       "      <td>0.0</td>\n",
       "      <td>here in nz 50 of retailers dont even have cont...</td>\n",
       "      <td>29</td>\n",
       "      <td>here in nz 50 of retail dont even have contact...</td>\n",
       "    </tr>\n",
       "    <tr>\n",
       "      <th>2</th>\n",
       "      <td>wAZZ-UWGVHI</td>\n",
       "      <td>2.0</td>\n",
       "      <td>i will forever acknowledge this channel with t...</td>\n",
       "      <td>31</td>\n",
       "      <td>i will forev acknowledg thi channel with the h...</td>\n",
       "    </tr>\n",
       "    <tr>\n",
       "      <th>3</th>\n",
       "      <td>wAZZ-UWGVHI</td>\n",
       "      <td>0.0</td>\n",
       "      <td>whenever i go to a place that doesnt take appl...</td>\n",
       "      <td>83</td>\n",
       "      <td>whenev i go to a place that doesnt take appl p...</td>\n",
       "    </tr>\n",
       "    <tr>\n",
       "      <th>4</th>\n",
       "      <td>wAZZ-UWGVHI</td>\n",
       "      <td>2.0</td>\n",
       "      <td>apple pay is so convenient secure and easy to ...</td>\n",
       "      <td>26</td>\n",
       "      <td>appl pay is so conveni secur and easi to use i...</td>\n",
       "    </tr>\n",
       "  </tbody>\n",
       "</table>\n",
       "</div>"
      ],
      "text/plain": [
       "      Video ID  Sentiment                                           new_text  \\\n",
       "0  wAZZ-UWGVHI        1.0  lets not forget that apple pay in 2014 require...   \n",
       "1  wAZZ-UWGVHI        0.0  here in nz 50 of retailers dont even have cont...   \n",
       "2  wAZZ-UWGVHI        2.0  i will forever acknowledge this channel with t...   \n",
       "3  wAZZ-UWGVHI        0.0  whenever i go to a place that doesnt take appl...   \n",
       "4  wAZZ-UWGVHI        2.0  apple pay is so convenient secure and easy to ...   \n",
       "\n",
       "   text_len                                            Stemmed  \n",
       "0        57  let not forget that appl pay in 2014 requir a ...  \n",
       "1        29  here in nz 50 of retail dont even have contact...  \n",
       "2        31  i will forev acknowledg thi channel with the h...  \n",
       "3        83  whenev i go to a place that doesnt take appl p...  \n",
       "4        26  appl pay is so conveni secur and easi to use i...  "
      ]
     },
     "execution_count": 27,
     "metadata": {},
     "output_type": "execute_result"
    }
   ],
   "source": [
    "data_comments.head()"
   ]
  },
  {
   "cell_type": "markdown",
   "id": "d70f0ad0",
   "metadata": {},
   "source": [
    "### Down-Sampling to Handle Imbalance"
   ]
  },
  {
   "cell_type": "code",
   "execution_count": 28,
   "id": "4dc4c507",
   "metadata": {},
   "outputs": [
    {
     "data": {
      "text/plain": [
       "(2332, 5)"
      ]
     },
     "execution_count": 28,
     "metadata": {},
     "output_type": "execute_result"
    }
   ],
   "source": [
    "df_0 = data_comments[data_comments['Sentiment'] == 0]\n",
    "df_0.shape"
   ]
  },
  {
   "cell_type": "code",
   "execution_count": 29,
   "id": "2b7414e3",
   "metadata": {},
   "outputs": [
    {
     "data": {
      "text/plain": [
       "(4381, 5)"
      ]
     },
     "execution_count": 29,
     "metadata": {},
     "output_type": "execute_result"
    }
   ],
   "source": [
    "df_1 = data_comments[data_comments['Sentiment'] == 1]\n",
    "df_1.shape"
   ]
  },
  {
   "cell_type": "code",
   "execution_count": 30,
   "id": "9b4c72ce",
   "metadata": {},
   "outputs": [
    {
     "data": {
      "text/plain": [
       "(11316, 5)"
      ]
     },
     "execution_count": 30,
     "metadata": {},
     "output_type": "execute_result"
    }
   ],
   "source": [
    "df_2 = data_comments[data_comments['Sentiment'] == 2]\n",
    "df_2.shape"
   ]
  },
  {
   "cell_type": "code",
   "execution_count": 31,
   "id": "669fb5c6",
   "metadata": {},
   "outputs": [
    {
     "data": {
      "text/plain": [
       "(2332, 5)"
      ]
     },
     "execution_count": 31,
     "metadata": {},
     "output_type": "execute_result"
    }
   ],
   "source": [
    "df_2_downsampled = df_2.sample(2332)\n",
    "df_2_downsampled.shape"
   ]
  },
  {
   "cell_type": "code",
   "execution_count": 32,
   "id": "3ca02797",
   "metadata": {},
   "outputs": [
    {
     "data": {
      "text/plain": [
       "(2332, 5)"
      ]
     },
     "execution_count": 32,
     "metadata": {},
     "output_type": "execute_result"
    }
   ],
   "source": [
    "df_1_downsampled = df_1.sample(2332)\n",
    "df_1_downsampled.shape"
   ]
  },
  {
   "cell_type": "code",
   "execution_count": 33,
   "id": "944a95fd",
   "metadata": {},
   "outputs": [
    {
     "data": {
      "text/plain": [
       "(6996, 5)"
      ]
     },
     "execution_count": 33,
     "metadata": {},
     "output_type": "execute_result"
    }
   ],
   "source": [
    "df_balanced = pd.concat([df_0, df_1_downsampled, df_2_downsampled])\n",
    "df_balanced.shape"
   ]
  },
  {
   "cell_type": "markdown",
   "id": "f190036f",
   "metadata": {},
   "source": [
    "### Text Vectorization Using TF-IDF"
   ]
  },
  {
   "cell_type": "code",
   "execution_count": 34,
   "id": "0a572e2a",
   "metadata": {},
   "outputs": [],
   "source": [
    "from sklearn.feature_extraction.text import TfidfVectorizer\n",
    "cv = TfidfVectorizer()\n",
    "X = cv.fit_transform(df_balanced['Stemmed']).toarray()"
   ]
  },
  {
   "cell_type": "code",
   "execution_count": 35,
   "id": "d486d59c",
   "metadata": {},
   "outputs": [
    {
     "data": {
      "text/plain": [
       "(6996, 18627)"
      ]
     },
     "execution_count": 35,
     "metadata": {},
     "output_type": "execute_result"
    }
   ],
   "source": [
    "X.shape"
   ]
  },
  {
   "cell_type": "code",
   "execution_count": 36,
   "id": "36b585a1",
   "metadata": {},
   "outputs": [],
   "source": [
    "y = df_balanced['Sentiment']"
   ]
  },
  {
   "cell_type": "code",
   "execution_count": 37,
   "id": "bff9b01e",
   "metadata": {},
   "outputs": [],
   "source": [
    "Y = pd.get_dummies(y).values"
   ]
  },
  {
   "cell_type": "code",
   "execution_count": 38,
   "id": "9cde399a",
   "metadata": {},
   "outputs": [
    {
     "data": {
      "text/plain": [
       "array([[1, 0, 0],\n",
       "       [1, 0, 0],\n",
       "       [1, 0, 0],\n",
       "       ...,\n",
       "       [0, 0, 1],\n",
       "       [0, 0, 1],\n",
       "       [0, 0, 1]], dtype=uint8)"
      ]
     },
     "execution_count": 38,
     "metadata": {},
     "output_type": "execute_result"
    }
   ],
   "source": [
    "Y"
   ]
  },
  {
   "cell_type": "markdown",
   "id": "698c49a6",
   "metadata": {},
   "source": [
    "### Train-Test Split"
   ]
  },
  {
   "cell_type": "code",
   "execution_count": 39,
   "id": "9518159d",
   "metadata": {},
   "outputs": [],
   "source": [
    "from sklearn.model_selection import train_test_split\n",
    "x_train, x_test, y_train, y_test = train_test_split(X, Y, test_size = 0.2, random_state = 42)"
   ]
  },
  {
   "cell_type": "markdown",
   "id": "acdebaa9",
   "metadata": {},
   "source": [
    "### ANN"
   ]
  },
  {
   "cell_type": "code",
   "execution_count": 40,
   "id": "0cf4fe2a",
   "metadata": {},
   "outputs": [],
   "source": [
    "import tensorflow as tf\n",
    "from tensorflow import keras"
   ]
  },
  {
   "cell_type": "code",
   "execution_count": 41,
   "id": "4c9fe87b",
   "metadata": {},
   "outputs": [],
   "source": [
    "model = keras.Sequential([\n",
    "    keras.layers.Dense(32, input_shape=(X.shape[1],), activation='relu'),\n",
    "    keras.layers.Dense(32, activation='relu'),\n",
    "    #keras.layers.Dense(8, activation='relu'),\n",
    "    keras.layers.Dense(3, activation='softmax')\n",
    "])"
   ]
  },
  {
   "cell_type": "code",
   "execution_count": 42,
   "id": "cf0eb03e",
   "metadata": {},
   "outputs": [],
   "source": [
    "model.compile(optimizer='Adam',\n",
    "              loss='categorical_crossentropy',\n",
    "              metrics=['accuracy'])"
   ]
  },
  {
   "cell_type": "code",
   "execution_count": 43,
   "id": "5aaadab5",
   "metadata": {},
   "outputs": [
    {
     "name": "stdout",
     "output_type": "stream",
     "text": [
      "Epoch 1/30\n",
      "175/175 [==============================] - 4s 13ms/step - loss: 0.9746 - accuracy: 0.5581\n",
      "Epoch 2/30\n",
      "175/175 [==============================] - 2s 13ms/step - loss: 0.4980 - accuracy: 0.8268\n",
      "Epoch 3/30\n",
      "175/175 [==============================] - 2s 13ms/step - loss: 0.2129 - accuracy: 0.9378\n",
      "Epoch 4/30\n",
      "175/175 [==============================] - 2s 13ms/step - loss: 0.0919 - accuracy: 0.9818\n",
      "Epoch 5/30\n",
      "175/175 [==============================] - 2s 12ms/step - loss: 0.0436 - accuracy: 0.9932\n",
      "Epoch 6/30\n",
      "175/175 [==============================] - 2s 13ms/step - loss: 0.0225 - accuracy: 0.9973\n",
      "Epoch 7/30\n",
      "175/175 [==============================] - 2s 13ms/step - loss: 0.0131 - accuracy: 0.9991\n",
      "Epoch 8/30\n",
      "175/175 [==============================] - 2s 13ms/step - loss: 0.0083 - accuracy: 0.9995\n",
      "Epoch 9/30\n",
      "175/175 [==============================] - 2s 13ms/step - loss: 0.0072 - accuracy: 0.9993\n",
      "Epoch 10/30\n",
      "175/175 [==============================] - 2s 13ms/step - loss: 0.0046 - accuracy: 0.9996\n",
      "Epoch 11/30\n",
      "175/175 [==============================] - 2s 13ms/step - loss: 0.0035 - accuracy: 0.9996\n",
      "Epoch 12/30\n",
      "175/175 [==============================] - 2s 13ms/step - loss: 0.0029 - accuracy: 0.9996\n",
      "Epoch 13/30\n",
      "175/175 [==============================] - 2s 13ms/step - loss: 0.0023 - accuracy: 0.9998\n",
      "Epoch 14/30\n",
      "175/175 [==============================] - 2s 13ms/step - loss: 0.0019 - accuracy: 0.9998\n",
      "Epoch 15/30\n",
      "175/175 [==============================] - 2s 13ms/step - loss: 0.0039 - accuracy: 0.9995\n",
      "Epoch 16/30\n",
      "175/175 [==============================] - 2s 13ms/step - loss: 0.0024 - accuracy: 0.9995\n",
      "Epoch 17/30\n",
      "175/175 [==============================] - 2s 13ms/step - loss: 0.0023 - accuracy: 0.9995\n",
      "Epoch 18/30\n",
      "175/175 [==============================] - 2s 13ms/step - loss: 0.0023 - accuracy: 0.9993\n",
      "Epoch 19/30\n",
      "175/175 [==============================] - 2s 13ms/step - loss: 0.0016 - accuracy: 0.9995\n",
      "Epoch 20/30\n",
      "175/175 [==============================] - 2s 13ms/step - loss: 0.0013 - accuracy: 0.9996\n",
      "Epoch 21/30\n",
      "175/175 [==============================] - 2s 13ms/step - loss: 0.0015 - accuracy: 0.9996\n",
      "Epoch 22/30\n",
      "175/175 [==============================] - 2s 13ms/step - loss: 0.0014 - accuracy: 0.9996\n",
      "Epoch 23/30\n",
      "175/175 [==============================] - 2s 13ms/step - loss: 0.0011 - accuracy: 0.9996\n",
      "Epoch 24/30\n",
      "175/175 [==============================] - 2s 13ms/step - loss: 0.0013 - accuracy: 0.9996\n",
      "Epoch 25/30\n",
      "175/175 [==============================] - 2s 13ms/step - loss: 0.0010 - accuracy: 0.9996\n",
      "Epoch 26/30\n",
      "175/175 [==============================] - 2s 13ms/step - loss: 0.0010 - accuracy: 0.9996\n",
      "Epoch 27/30\n",
      "175/175 [==============================] - 2s 13ms/step - loss: 6.2897e-04 - accuracy: 0.9998\n",
      "Epoch 28/30\n",
      "175/175 [==============================] - 2s 12ms/step - loss: 0.0011 - accuracy: 0.9996\n",
      "Epoch 29/30\n",
      "175/175 [==============================] - 2s 12ms/step - loss: 0.0012 - accuracy: 0.9996\n",
      "Epoch 30/30\n",
      "175/175 [==============================] - 2s 12ms/step - loss: 0.0010 - accuracy: 0.9996\n"
     ]
    },
    {
     "data": {
      "text/plain": [
       "<keras.src.callbacks.History at 0x1e9fe77b130>"
      ]
     },
     "execution_count": 43,
     "metadata": {},
     "output_type": "execute_result"
    }
   ],
   "source": [
    "model.fit(x_train, y_train, epochs=30)"
   ]
  },
  {
   "cell_type": "code",
   "execution_count": 44,
   "id": "deff9957",
   "metadata": {},
   "outputs": [],
   "source": [
    "y_pred = model(x_test)"
   ]
  },
  {
   "cell_type": "code",
   "execution_count": 45,
   "id": "ebe4a870",
   "metadata": {},
   "outputs": [
    {
     "data": {
      "text/plain": [
       "TensorShape([1400, 3])"
      ]
     },
     "execution_count": 45,
     "metadata": {},
     "output_type": "execute_result"
    }
   ],
   "source": [
    "y_pred.shape"
   ]
  },
  {
   "cell_type": "code",
   "execution_count": 46,
   "id": "0a3f0d24",
   "metadata": {},
   "outputs": [
    {
     "data": {
      "text/plain": [
       "<tf.Tensor: shape=(10, 3), dtype=float32, numpy=\n",
       "array([[1.14149670e-03, 8.51123810e-01, 1.47734746e-01],\n",
       "       [9.99999762e-01, 7.72760771e-08, 1.00657324e-07],\n",
       "       [1.23135897e-06, 9.99996305e-01, 2.50912058e-06],\n",
       "       [9.99981284e-01, 1.29344562e-05, 5.71878581e-06],\n",
       "       [2.46893148e-11, 9.99999642e-01, 3.71477000e-07],\n",
       "       [4.23704681e-04, 4.93454225e-02, 9.50230896e-01],\n",
       "       [8.79897118e-01, 9.43494961e-02, 2.57534124e-02],\n",
       "       [3.61295327e-10, 1.87341436e-06, 9.99998093e-01],\n",
       "       [9.43098741e-04, 4.39089090e-05, 9.99012947e-01],\n",
       "       [5.87085447e-09, 9.97366130e-01, 2.63387524e-03]], dtype=float32)>"
      ]
     },
     "execution_count": 46,
     "metadata": {},
     "output_type": "execute_result"
    }
   ],
   "source": [
    "y_pred[:10]"
   ]
  },
  {
   "cell_type": "code",
   "execution_count": 47,
   "id": "4cee38f0",
   "metadata": {},
   "outputs": [
    {
     "data": {
      "text/plain": [
       "array([[0, 1, 0],\n",
       "       [0, 1, 0],\n",
       "       [0, 1, 0],\n",
       "       [1, 0, 0],\n",
       "       [0, 1, 0],\n",
       "       [0, 0, 1],\n",
       "       [0, 1, 0],\n",
       "       [0, 0, 1],\n",
       "       [0, 0, 1],\n",
       "       [0, 0, 1]], dtype=uint8)"
      ]
     },
     "execution_count": 47,
     "metadata": {},
     "output_type": "execute_result"
    }
   ],
   "source": [
    "y_test[:10]"
   ]
  },
  {
   "cell_type": "code",
   "execution_count": 48,
   "id": "97be6aa6",
   "metadata": {},
   "outputs": [
    {
     "data": {
      "text/plain": [
       "TensorShape([1400, 3])"
      ]
     },
     "execution_count": 48,
     "metadata": {},
     "output_type": "execute_result"
    }
   ],
   "source": [
    "y_pred.shape"
   ]
  }
 ],
 "metadata": {
  "kernelspec": {
   "display_name": "Python 3 (ipykernel)",
   "language": "python",
   "name": "python3"
  },
  "language_info": {
   "codemirror_mode": {
    "name": "ipython",
    "version": 3
   },
   "file_extension": ".py",
   "mimetype": "text/x-python",
   "name": "python",
   "nbconvert_exporter": "python",
   "pygments_lexer": "ipython3",
   "version": "3.9.13"
  }
 },
 "nbformat": 4,
 "nbformat_minor": 5
}
